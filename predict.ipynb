{
 "cells": [
  {
   "cell_type": "code",
   "execution_count": 12,
   "metadata": {},
   "outputs": [
    {
     "name": "stdout",
     "output_type": "stream",
     "text": [
      "\n",
      "\t This ML programme, predicts the room-rates of hotels\n"
     ]
    }
   ],
   "source": [
    "print(\"\\n\\t This ML programme, predicts the room-rates of hotels\")\n"
   ]
  },
  {
   "cell_type": "code",
   "execution_count": 13,
   "metadata": {},
   "outputs": [],
   "source": [
    "train_data_path = \"./data/processed_data.csv\"\n",
    "import pandas as pd\n",
    "processed_data = pd.read_csv(train_data_path)\n",
    "# processed_data\n"
   ]
  },
  {
   "cell_type": "code",
   "execution_count": 14,
   "metadata": {},
   "outputs": [
    {
     "name": "stderr",
     "output_type": "stream",
     "text": [
      "C:\\Users\\HP\\AppData\\Local\\Temp\\ipykernel_18388\\3423311706.py:6: FutureWarning: Downcasting behavior in `replace` is deprecated and will be removed in a future version. To retain the old behavior, explicitly call `result.infer_objects(copy=False)`. To opt-in to the future behavior, set `pd.set_option('future.no_silent_downcasting', True)`\n",
      "  new_location_encoding = hotel_location.replace(to_replace=[\"Residence area\", \"Commercial area\"], value=[1, 2])\n",
      "C:\\Users\\HP\\AppData\\Local\\Temp\\ipykernel_18388\\3423311706.py:7: SettingWithCopyWarning: \n",
      "A value is trying to be set on a copy of a slice from a DataFrame.\n",
      "Try using .loc[row_indexer,col_indexer] = value instead\n",
      "\n",
      "See the caveats in the documentation: https://pandas.pydata.org/pandas-docs/stable/user_guide/indexing.html#returning-a-view-versus-a-copy\n",
      "  required_data[\"Hotel Location\"] = new_location_encoding\n",
      "C:\\Users\\HP\\AppData\\Local\\Temp\\ipykernel_18388\\3423311706.py:11: FutureWarning: Downcasting behavior in `replace` is deprecated and will be removed in a future version. To retain the old behavior, explicitly call `result.infer_objects(copy=False)`. To opt-in to the future behavior, set `pd.set_option('future.no_silent_downcasting', True)`\n",
      "  new_room_type_encoding = room_type_val.replace(to_replace=[\n",
      "C:\\Users\\HP\\AppData\\Local\\Temp\\ipykernel_18388\\3423311706.py:22: SettingWithCopyWarning: \n",
      "A value is trying to be set on a copy of a slice from a DataFrame.\n",
      "Try using .loc[row_indexer,col_indexer] = value instead\n",
      "\n",
      "See the caveats in the documentation: https://pandas.pydata.org/pandas-docs/stable/user_guide/indexing.html#returning-a-view-versus-a-copy\n",
      "  required_data[\"Room-type Name\"] = new_room_type_encoding\n"
     ]
    },
    {
     "data": {
      "text/html": [
       "<div>\n",
       "<style scoped>\n",
       "    .dataframe tbody tr th:only-of-type {\n",
       "        vertical-align: middle;\n",
       "    }\n",
       "\n",
       "    .dataframe tbody tr th {\n",
       "        vertical-align: top;\n",
       "    }\n",
       "\n",
       "    .dataframe thead th {\n",
       "        text-align: right;\n",
       "    }\n",
       "</style>\n",
       "<table border=\"1\" class=\"dataframe\">\n",
       "  <thead>\n",
       "    <tr style=\"text-align: right;\">\n",
       "      <th></th>\n",
       "      <th>Room Rate</th>\n",
       "      <th>Month Record</th>\n",
       "      <th>Number of Star</th>\n",
       "      <th>Hotel Location</th>\n",
       "      <th>Number of Nights</th>\n",
       "      <th>Room-type Name</th>\n",
       "    </tr>\n",
       "  </thead>\n",
       "  <tbody>\n",
       "    <tr>\n",
       "      <th>1</th>\n",
       "      <td>47500.0</td>\n",
       "      <td>10</td>\n",
       "      <td>3</td>\n",
       "      <td>1</td>\n",
       "      <td>2.0</td>\n",
       "      <td>5</td>\n",
       "    </tr>\n",
       "    <tr>\n",
       "      <th>2</th>\n",
       "      <td>95000.0</td>\n",
       "      <td>11</td>\n",
       "      <td>3</td>\n",
       "      <td>1</td>\n",
       "      <td>2.0</td>\n",
       "      <td>1</td>\n",
       "    </tr>\n",
       "    <tr>\n",
       "      <th>3</th>\n",
       "      <td>60000.0</td>\n",
       "      <td>11</td>\n",
       "      <td>3</td>\n",
       "      <td>1</td>\n",
       "      <td>1.0</td>\n",
       "      <td>5</td>\n",
       "    </tr>\n",
       "    <tr>\n",
       "      <th>4</th>\n",
       "      <td>100000.0</td>\n",
       "      <td>11</td>\n",
       "      <td>3</td>\n",
       "      <td>1</td>\n",
       "      <td>1.0</td>\n",
       "      <td>4</td>\n",
       "    </tr>\n",
       "    <tr>\n",
       "      <th>5</th>\n",
       "      <td>46875.0</td>\n",
       "      <td>11</td>\n",
       "      <td>3</td>\n",
       "      <td>1</td>\n",
       "      <td>1.0</td>\n",
       "      <td>5</td>\n",
       "    </tr>\n",
       "    <tr>\n",
       "      <th>...</th>\n",
       "      <td>...</td>\n",
       "      <td>...</td>\n",
       "      <td>...</td>\n",
       "      <td>...</td>\n",
       "      <td>...</td>\n",
       "      <td>...</td>\n",
       "    </tr>\n",
       "    <tr>\n",
       "      <th>5583</th>\n",
       "      <td>40000.0</td>\n",
       "      <td>1</td>\n",
       "      <td>4</td>\n",
       "      <td>2</td>\n",
       "      <td>2.0</td>\n",
       "      <td>1</td>\n",
       "    </tr>\n",
       "    <tr>\n",
       "      <th>5584</th>\n",
       "      <td>40000.0</td>\n",
       "      <td>1</td>\n",
       "      <td>4</td>\n",
       "      <td>2</td>\n",
       "      <td>2.0</td>\n",
       "      <td>1</td>\n",
       "    </tr>\n",
       "    <tr>\n",
       "      <th>5585</th>\n",
       "      <td>40000.0</td>\n",
       "      <td>1</td>\n",
       "      <td>4</td>\n",
       "      <td>2</td>\n",
       "      <td>1.0</td>\n",
       "      <td>7</td>\n",
       "    </tr>\n",
       "    <tr>\n",
       "      <th>5586</th>\n",
       "      <td>40000.0</td>\n",
       "      <td>1</td>\n",
       "      <td>4</td>\n",
       "      <td>2</td>\n",
       "      <td>1.0</td>\n",
       "      <td>1</td>\n",
       "    </tr>\n",
       "    <tr>\n",
       "      <th>5587</th>\n",
       "      <td>40000.0</td>\n",
       "      <td>1</td>\n",
       "      <td>4</td>\n",
       "      <td>2</td>\n",
       "      <td>2.0</td>\n",
       "      <td>1</td>\n",
       "    </tr>\n",
       "  </tbody>\n",
       "</table>\n",
       "<p>5492 rows × 6 columns</p>\n",
       "</div>"
      ],
      "text/plain": [
       "      Room Rate  Month Record  Number of Star  Hotel Location  \\\n",
       "1       47500.0            10               3               1   \n",
       "2       95000.0            11               3               1   \n",
       "3       60000.0            11               3               1   \n",
       "4      100000.0            11               3               1   \n",
       "5       46875.0            11               3               1   \n",
       "...         ...           ...             ...             ...   \n",
       "5583    40000.0             1               4               2   \n",
       "5584    40000.0             1               4               2   \n",
       "5585    40000.0             1               4               2   \n",
       "5586    40000.0             1               4               2   \n",
       "5587    40000.0             1               4               2   \n",
       "\n",
       "      Number of Nights  Room-type Name  \n",
       "1                  2.0               5  \n",
       "2                  2.0               1  \n",
       "3                  1.0               5  \n",
       "4                  1.0               4  \n",
       "5                  1.0               5  \n",
       "...                ...             ...  \n",
       "5583               2.0               1  \n",
       "5584               2.0               1  \n",
       "5585               1.0               7  \n",
       "5586               1.0               1  \n",
       "5587               2.0               1  \n",
       "\n",
       "[5492 rows x 6 columns]"
      ]
     },
     "execution_count": 14,
     "metadata": {},
     "output_type": "execute_result"
    }
   ],
   "source": [
    "# drop rowws whose room-rates are zero\n",
    "required_data = processed_data[processed_data['Room Rate'] > 0]\n",
    "\n",
    "# Implement one-hot encoding for Hotel-Location\n",
    "hotel_location = required_data['Hotel Location']\n",
    "new_location_encoding = hotel_location.replace(to_replace=[\"Residence area\", \"Commercial area\"], value=[1, 2])\n",
    "required_data[\"Hotel Location\"] = new_location_encoding\n",
    "\n",
    "# Implement one-hot encoding for Room-type name\n",
    "room_type_val = required_data['Room-type Name']\n",
    "new_room_type_encoding = room_type_val.replace(to_replace=[\n",
    "    \"DELUXE\", \"DELUXE ROOM\", \"DELUX ROOM\", \"DELUXE SUITE\", \"CLASSIC KING\", \"CLASSIC ROOM\", \"CLASSIC SUITE\", \n",
    "    \"DIPLOMATIC\", \"DIPLOMATIC SUITE\", \n",
    "    \"SUITE\", \"SUPERIOR\", \"SUPERIOR STUDIO\", \"SUPERIOR ROOM\", \n",
    "    \"EXECUTIVE SUITE\", \"EXECUTIVE ROOM\", \n",
    "    \"SUPER CLASSIC\", \"DIPLOMATIC FLAT\", \n",
    "    \"1 BEDROOM APARTMENT\", \"STANDARD\", \"MINI FLAT\", \"CLASSIC STUDIO\", \n",
    "    \"2 BEDROOM APARTMENT\", \"MAINTENANCE BLOCK\", \"PRESIDENTIAL SUITE\", \n",
    "    'DUPLEX(ROYAL SUITE)', 'PLATINUM STUDIO SUITE', 'GLUTTO TWIN APARTMENT', \n",
    "    'JUNIOR SUITE', 'APARTMENT', 'GLUTTO ROOM', 'GLUTTO SUITE'\n",
    "    ], value=[1, 1, 1, 1, 2, 2, 2, 3, 3, 4, 5, 5, 5, 6, 6, 7,8, 9, 10, 11, 12, 13, 14, 15, 16, 17, 18, 19, 20, 21, 22])\n",
    "required_data[\"Room-type Name\"] = new_room_type_encoding\n",
    "required_data\n"
   ]
  },
  {
   "cell_type": "code",
   "execution_count": 15,
   "metadata": {},
   "outputs": [],
   "source": [
    "# Select targets and features\n",
    "target = required_data[\"Room Rate\"]\n",
    "# Select feature\n",
    "features_list = [\"Month Record\", \"Number of Star\", \"Hotel Location\", \"Number of Nights\", \"Room-type Name\"]\n",
    "features = required_data[features_list]"
   ]
  },
  {
   "cell_type": "code",
   "execution_count": 16,
   "metadata": {},
   "outputs": [
    {
     "data": {
      "text/plain": [
       "array([5., 4., 2., 1., 1.])"
      ]
     },
     "execution_count": 16,
     "metadata": {},
     "output_type": "execute_result"
    }
   ],
   "source": [
    "# split required_data into training & test set\n",
    "from sklearn.model_selection import train_test_split #\n",
    "# the random_state argument ensures the same split is given always \n",
    "target_values = target.values\n",
    "feature_values = features.values\n",
    "train_X, val_X, train_y, val_y = train_test_split(feature_values, target_values, random_state=0)\n",
    "# train_X\n",
    "val_X[0]"
   ]
  },
  {
   "cell_type": "code",
   "execution_count": 17,
   "metadata": {},
   "outputs": [
    {
     "name": "stdout",
     "output_type": "stream",
     "text": [
      "\n",
      "\t model score:  0.2889149480048723\n"
     ]
    }
   ],
   "source": [
    "# train model\n",
    "from sklearn.ensemble import RandomForestRegressor\n",
    "\n",
    "model = RandomForestRegressor(random_state=1)\n",
    "model.fit(train_X, train_y)\n",
    "\n",
    "# score\n",
    "model_score = model.score(val_X, val_y)\n",
    "print(\"\\n\\t model score: \", model_score)"
   ]
  },
  {
   "cell_type": "code",
   "execution_count": 18,
   "metadata": {},
   "outputs": [
    {
     "name": "stdout",
     "output_type": "stream",
     "text": [
      "\n",
      "\t chosen data prediction:  [ 38381.27431291 113787.63369963  50248.39370656 ...  55740.\n",
      "  37377.98811499  52662.28119713]\n",
      "\n",
      "\t val_X:  [[ 5.  4.  2.  1.  1.]\n",
      " [10.  3.  1.  2.  9.]\n",
      " [ 7.  3.  1.  1.  5.]\n",
      " ...\n",
      " [ 4.  3.  1. 11. 12.]\n",
      " [ 7.  4.  2.  1.  1.]\n",
      " [ 6.  3.  1.  1.  5.]]\n",
      "\n",
      "\t room_rate_predict:  [50248.39370656]\n"
     ]
    }
   ],
   "source": [
    "# Predictions\n",
    "room_rate_predict = model.predict(val_X) # predict for all test data\n",
    "print(\"\\n\\t chosen data prediction: \", room_rate_predict)\n",
    "\n",
    "# Month Record,Number of Star,Hotel Location,Number of Nights,Room-type Name\n",
    "print(\"\\n\\t val_X: \", val_X)\n",
    "\n",
    "room_rate_predict = model.predict([val_X[2]]) # predict for chosen test data\n",
    "print(\"\\n\\t room_rate_predict: \", room_rate_predict)\n",
    "\n",
    "\n"
   ]
  },
  {
   "cell_type": "code",
   "execution_count": 19,
   "metadata": {},
   "outputs": [
    {
     "data": {
      "text/plain": [
       "array([70046.11537982])"
      ]
     },
     "execution_count": 19,
     "metadata": {},
     "output_type": "execute_result"
    }
   ],
   "source": [
    "# predict for random values\n",
    "# [\"Residence area\", \"Commercial area\"], value=[1, 2]\n",
    "random_data = [11,3,1,1,5] # Month Record,Number of Star,Hotel Location,Number of Nights,Room-type Name\n",
    "y_pred_random = model.predict([random_data]) # predict for all test data\n",
    "y_pred_random\n",
    "# val_X\n",
    "# y_pred.shape"
   ]
  },
  {
   "cell_type": "code",
   "execution_count": 20,
   "metadata": {},
   "outputs": [
    {
     "name": "stdout",
     "output_type": "stream",
     "text": [
      "mean_squared_error: 232513510.63017774\n"
     ]
    }
   ],
   "source": [
    "# models' accuracy\n",
    "from sklearn.metrics import mean_absolute_error, mean_squared_error\n",
    "\n",
    "from sklearn.metrics import accuracy_score\n",
    "mse = mean_squared_error([val_y[0]], room_rate_predict)\n",
    "print(\"mean_squared_error:\", mse)"
   ]
  },
  {
   "cell_type": "code",
   "execution_count": 21,
   "metadata": {},
   "outputs": [
    {
     "ename": "ModuleNotFoundError",
     "evalue": "No module named 'graphviz'",
     "output_type": "error",
     "traceback": [
      "\u001b[1;31m---------------------------------------------------------------------------\u001b[0m",
      "\u001b[1;31mModuleNotFoundError\u001b[0m                       Traceback (most recent call last)",
      "Cell \u001b[1;32mIn[21], line 3\u001b[0m\n\u001b[0;32m      1\u001b[0m \u001b[38;5;66;03m# Export the first three decision trees from the forest\u001b[39;00m\n\u001b[0;32m      2\u001b[0m \u001b[38;5;28;01mfrom\u001b[39;00m \u001b[38;5;21;01msklearn\u001b[39;00m\u001b[38;5;21;01m.\u001b[39;00m\u001b[38;5;21;01mtree\u001b[39;00m \u001b[38;5;28;01mimport\u001b[39;00m export_graphviz\n\u001b[1;32m----> 3\u001b[0m \u001b[38;5;28;01mimport\u001b[39;00m \u001b[38;5;21;01mgraphviz\u001b[39;00m \n\u001b[0;32m      6\u001b[0m \u001b[38;5;28;01mfor\u001b[39;00m i \u001b[38;5;129;01min\u001b[39;00m \u001b[38;5;28mrange\u001b[39m(\u001b[38;5;241m3\u001b[39m):\n\u001b[0;32m      7\u001b[0m     tree \u001b[38;5;241m=\u001b[39m model\u001b[38;5;241m.\u001b[39mestimators_[i]\n",
      "\u001b[1;31mModuleNotFoundError\u001b[0m: No module named 'graphviz'"
     ]
    }
   ],
   "source": [
    "# Export the first three decision trees from the forest\n",
    "from sklearn.tree import export_graphviz\n",
    "import graphviz \n",
    "\n",
    "\n",
    "for i in range(3):\n",
    "    tree = model.estimators_[i]\n",
    "    dot_data = export_graphviz(tree,\n",
    "                               feature_names=features_list,  \n",
    "                               filled=True,  \n",
    "                               max_depth=2, \n",
    "                               impurity=False, \n",
    "                               proportion=True)\n",
    "    graph = graphviz.Source(dot_data)\n",
    "    display(graph)"
   ]
  },
  {
   "cell_type": "code",
   "execution_count": null,
   "metadata": {},
   "outputs": [],
   "source": []
  }
 ],
 "metadata": {
  "kernelspec": {
   "display_name": "house-price-predict",
   "language": "python",
   "name": "python3"
  },
  "language_info": {
   "codemirror_mode": {
    "name": "ipython",
    "version": 3
   },
   "file_extension": ".py",
   "mimetype": "text/x-python",
   "name": "python",
   "nbconvert_exporter": "python",
   "pygments_lexer": "ipython3",
   "version": "3.12.4"
  }
 },
 "nbformat": 4,
 "nbformat_minor": 2
}
